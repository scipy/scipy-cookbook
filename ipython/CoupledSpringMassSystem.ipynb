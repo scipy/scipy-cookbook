{
 "cells": [
  {
   "cell_type": "markdown",
   "id": "5bb047c7",
   "metadata": {},
   "source": [
    "Coupled spring-mass system\n",
    "======================================================================\n",
    "\n",
    "This cookbook example shows how to solve a system of differential\n",
    "equations. (Other examples include the\n",
    "[Lotka-Volterra Tutorial](LotkaVolterraTutorial.html), the\n",
    "[Zombie Apocalypse](Zombie_Apocalypse_ODEINT.html) and the\n",
    "[KdV example](KdV.html).)\n",
    "\n",
    "A Coupled Spring-Mass System\n",
    "----------------------------\n",
    "\n",
    "This figure shows the system to be modeled:\n",
    "\n",
    "![](attachments/CoupledSpringMassSystem/two_springs_diagram.png)\n",
    "\n",
    "Two objects with masses $m_1$ and $m_2$ are coupled through springs\n",
    "with spring constants $k_1$ and $k_2$. The left end of the left spring\n",
    "is fixed. We assume that the lengths of the springs, when subjected to\n",
    "no external forces, are $L_1$ and $L_2$.\n",
    "\n",
    "The masses are sliding on a surface that creates friction, so there are\n",
    "two friction coefficients, $b_1$ and $b_2$.\n",
    "\n",
    "The differential equations for this system are\n",
    "\n",
    "$m_1 x_1'' + b_1 x_1' + k_1 (x_1 - L_1) - k_2 (x_2 - x_1 - L_2) = 0$\n",
    "\n",
    "$m_2 x_2'' + b_2 x_2' + k_2 (x_2 - x_1 - L_2) = 0$\n",
    "\n",
    "This is a pair of coupled second order equations. To solve this system\n",
    "with one of the ODE solvers provided by SciPy, we must first convert\n",
    "this to a system of first order differential equations. We introduce two\n",
    "variables\n",
    "\n",
    "$y_1 = x_1'$\n",
    "\n",
    " $y_2 = x_2'$\n",
    "\n",
    "These are the velocities of the masses.\n",
    "\n",
    "With a little algebra, we can rewrite the two second order equations as\n",
    "the following system of four first order equations:\n",
    "\n",
    "$x_1' = y_1$\n",
    "\n",
    "$y_1' = (-b_1 y_1 - k_1 (x_1 - L_1) + k_2 (x_2 - x_1 - L_2))/m_1$\n",
    "\n",
    "$x_2' = y_2$\n",
    "\n",
    "$y_2' = (-b_2 y_2 - k_2 (x_2 - x_1 - L_2))/m_2$\n",
    "\n",
    "These equations are now in a form that we can implement in Python.\n",
    "\n",
    "The following code defines the \"right hand side\" of the system of\n",
    "equations (also known as a vector field). I have chosen to put the\n",
    "function that defines the vector field in its own module (i.e. in its\n",
    "own file), but this is not necessary. Note that the arguments of the\n",
    "function are configured to be used with the function odeint: the time t is the\n",
    "second argument."
   ]
  },
  {
   "cell_type": "code",
   "execution_count": 1,
   "id": "e55d05ac",
   "metadata": {
    "collapsed": false,
    "jupyter": {
     "outputs_hidden": false
    }
   },
   "outputs": [],
   "source": [
    "def vectorfield(t, w, p):\n",
    "    \"\"\"\n",
    "    The differential equations for the coupled spring-mass system.\n",
    "\n",
    "    Arguments:\n",
    "        t :  time\n",
    "        w :  vector of the state variables:\n",
    "                  w = [x1,y1,x2,y2]\n",
    "        p :  vector of the parameters:\n",
    "                  p = [m1,m2,k1,k2,L1,L2,b1,b2]\n",
    "    \"\"\"\n",
    "    x1, y1, x2, y2 = w\n",
    "    m1, m2, k1, k2, L1, L2, b1, b2 = p\n",
    "\n",
    "    # Create f = (x1',y1',x2',y2'):\n",
    "    f = [y1,\n",
    "         (-b1 * y1 - k1 * (x1 - L1) + k2 * (x2 - x1 - L2)) / m1,\n",
    "         y2,\n",
    "         (-b2 * y2 - k2 * (x2 - x1 - L2)) / m2]\n",
    "    return f"
   ]
  },
  {
   "cell_type": "markdown",
   "id": "624dc018-843d-46b1-b90b-294b9fdad0f9",
   "metadata": {
    "collapsed": false,
    "jupyter": {
     "outputs_hidden": false
    }
   },
   "source": [
    "Set the problem parameter values"
   ]
  },
  {
   "cell_type": "code",
   "execution_count": 2,
   "id": "952b19b2-dd22-422e-a015-c75455fc6b14",
   "metadata": {
    "collapsed": false,
    "jupyter": {
     "outputs_hidden": false
    }
   },
   "outputs": [],
   "source": [
    "# Masses:\n",
    "m1 = 1.0\n",
    "m2 = 1.5\n",
    "# Spring constants\n",
    "k1 = 8.0\n",
    "k2 = 40.0\n",
    "# Natural lengths\n",
    "L1 = 0.5\n",
    "L2 = 1.0\n",
    "# Friction coefficients\n",
    "b1 = 0.8\n",
    "b2 = 0.5"
   ]
  },
  {
   "cell_type": "markdown",
   "id": "9bc27c07-7b1d-4266-adb9-042371028784",
   "metadata": {
    "collapsed": false,
    "jupyter": {
     "outputs_hidden": false
    }
   },
   "source": [
    "Initial conditions\n",
    "`x1` and `x2` are the initial displacements; `y1` and `y2` are the initial velocities"
   ]
  },
  {
   "cell_type": "code",
   "execution_count": 3,
   "id": "6339d561-a6ec-41b5-ba67-eb53b2a321e5",
   "metadata": {
    "collapsed": false,
    "jupyter": {
     "outputs_hidden": false
    }
   },
   "outputs": [],
   "source": [
    "x1 = 0.5\n",
    "y1 = 0.0\n",
    "x2 = 2.25\n",
    "y2 = 0.0"
   ]
  },
  {
   "cell_type": "markdown",
   "id": "603282f6-b4c2-445e-9a42-f4a770903f54",
   "metadata": {
    "collapsed": false,
    "jupyter": {
     "outputs_hidden": false
    }
   },
   "source": [
    "Set solver parameters; in this case just the time interval over which to integrate"
   ]
  },
  {
   "cell_type": "code",
   "execution_count": 4,
   "id": "624ebfd2-55e8-4902-9062-900195c8c27d",
   "metadata": {
    "collapsed": false,
    "jupyter": {
     "outputs_hidden": false
    }
   },
   "outputs": [],
   "source": [
    "interval = [0, 10.0]"
   ]
  },
  {
   "cell_type": "markdown",
   "id": "fbd09cfe-3b97-4913-8919-feee2d4ad988",
   "metadata": {
    "collapsed": false,
    "jupyter": {
     "outputs_hidden": false
    }
   },
   "source": [
    "Create the time samples for the final figure.\n",
    "`solve_ivp` will evaluate our function at these timestamps, \n",
    "once it has solved the equation itself"
   ]
  },
  {
   "cell_type": "code",
   "execution_count": 5,
   "id": "735ecbd0-7d0a-4675-b545-f4cc07d4c655",
   "metadata": {
    "collapsed": false,
    "jupyter": {
     "outputs_hidden": false
    }
   },
   "outputs": [],
   "source": [
    "import numpy as np\n",
    "\n",
    "t = np.linspace(*interval, 150)"
   ]
  },
  {
   "cell_type": "markdown",
   "id": "bb71ac64-d7c0-4cdb-be2c-ca84a52aae6f",
   "metadata": {
    "collapsed": false,
    "jupyter": {
     "outputs_hidden": false
    }
   },
   "source": [
    "Pack up the parameters and initial conditions:"
   ]
  },
  {
   "cell_type": "code",
   "execution_count": 6,
   "id": "6d3c8215-b0a0-408d-8b47-a6c29728a000",
   "metadata": {
    "collapsed": false,
    "jupyter": {
     "outputs_hidden": false
    }
   },
   "outputs": [],
   "source": [
    "p = [m1, m2, k1, k2, L1, L2, b1, b2]\n",
    "w0 = [x1, y1, x2, y2]"
   ]
  },
  {
   "cell_type": "markdown",
   "id": "99b88982-815b-41d2-91a1-c725dddbd06b",
   "metadata": {
    "collapsed": false,
    "jupyter": {
     "outputs_hidden": false
    }
   },
   "source": [
    "Perform the actual integration"
   ]
  },
  {
   "cell_type": "code",
   "execution_count": 7,
   "id": "8e35d742-92ab-4838-8e86-cd88a6fd6314",
   "metadata": {
    "collapsed": false,
    "jupyter": {
     "outputs_hidden": false
    }
   },
   "outputs": [
    {
     "data": {
      "text/plain": [
       "  message: The solver successfully reached the end of the integration interval.\n",
       "  success: True\n",
       "   status: 0\n",
       "        t: [ 0.000e+00  6.711e-02 ...  9.933e+00  1.000e+01]\n",
       "        y: [[ 5.000e-01  5.645e-01 ...  4.992e-01  5.080e-01]\n",
       "            [ 0.000e+00  1.852e+00 ...  1.694e-01  9.234e-02]\n",
       "            [ 2.250e+00  2.206e+00 ...  1.478e+00  1.480e+00]\n",
       "            [ 0.000e+00 -1.263e+00 ...  4.381e-03  4.901e-02]]\n",
       "      sol: None\n",
       " t_events: None\n",
       " y_events: None\n",
       "     nfev: 704\n",
       "     njev: 0\n",
       "      nlu: 0"
      ]
     },
     "execution_count": 7,
     "metadata": {},
     "output_type": "execute_result"
    }
   ],
   "source": [
    "from scipy.integrate import solve_ivp\n",
    "\n",
    "solution = solve_ivp(vectorfield, interval, w0, t_eval=t, args=(p,))\n",
    "solution"
   ]
  },
  {
   "cell_type": "markdown",
   "id": "8d8aa5c2",
   "metadata": {},
   "source": [
    "Plot the obtained solution."
   ]
  },
  {
   "cell_type": "code",
   "execution_count": 8,
   "id": "3d4a4e66",
   "metadata": {
    "collapsed": false,
    "jupyter": {
     "outputs_hidden": false
    }
   },
   "outputs": [
    {
     "data": {
      "image/png": "[encoded data removed]",
      "text/plain": [
       "<Figure size 640x480 with 1 Axes>"
      ]
     },
     "metadata": {},
     "output_type": "display_data"
    }
   ],
   "source": [
    "import matplotlib.pyplot as plt\n",
    "\n",
    "# `solver.y` has shape 4, 150; unpack it into its four components\n",
    "x1, xy, x2, y2 = solution.y\n",
    "\n",
    "plt.figure()\n",
    "\n",
    "\n",
    "plt.plot(solution.t, x1, 'b')\n",
    "plt.plot(solution.t, x2, 'g')\n",
    "plt.legend((r'$x_1$', r'$x_2$'))\n",
    "plt.xlabel('t')\n",
    "plt.title('Mass Displacements for the\\nCoupled Spring-Mass System')\n",
    "plt.grid(True);"
   ]
  }
 ],
 "metadata": {
  "kernelspec": {
   "display_name": "Python 3 (ipykernel)",
   "language": "python",
   "name": "python3"
  },
  "language_info": {
   "codemirror_mode": {
    "name": "ipython",
    "version": 3
   },
   "file_extension": ".py",
   "mimetype": "text/x-python",
   "name": "python",
   "nbconvert_exporter": "python",
   "pygments_lexer": "ipython3",
   "version": "3.12.1"
  }
 },
 "nbformat": 4,
 "nbformat_minor": 5
}
