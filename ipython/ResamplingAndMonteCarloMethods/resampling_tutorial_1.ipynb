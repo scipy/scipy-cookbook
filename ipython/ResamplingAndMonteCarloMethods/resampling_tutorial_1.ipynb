{
 "cells": [
  {
   "cell_type": "markdown",
   "id": "4304eb40-80fd-46b5-a6ef-6e7a84d33dbe",
   "metadata": {},
   "source": [
    "## Monte Carlo Tests\n",
    "To motivate resampling methods, suppose we wish to infer from measurements whether the weights of adult human males in a medical study are normally distributed [[1](https://www.jstor.org/stable/2333709https://www.jstor.org/stable/2333709)]. This may be prerequisite to performing other statistical tests, many of which are developed under the assumption that samples are drawn from a normally distributed population (although some tests are quite robust to deviations from this assumption, as we will see later). The weights are recorded in the array `x` below."
   ]
  },
  {
   "cell_type": "code",
   "execution_count": 1,
   "id": "02824778-802d-4d9d-8cd5-0a69cc028d13",
   "metadata": {},
   "outputs": [],
   "source": [
    "import numpy as np\n",
    "x = np.array([148, 154, 158, 160, 161, 162, 166, 170, 182, 195, 236])  # weights (lbs)"
   ]
  },
  {
   "cell_type": "markdown",
   "id": "fe14279d-496f-45fe-9ce0-937ff5844a3b",
   "metadata": {},
   "source": [
    "One way of testing for departures from normality, chosen based on its simplicity rather than its sensitivity, is the [Jarque-Bera test [2]](https://www.sciencedirect.com/science/article/abs/pii/0165176580900245) implemented in SciPy as `scipy.stats.jarque_bera`. The test, like many other hypothesis tests, computes a *statistic* based on the sample and compares its value to the distribution of the statistic derived under the *null hypothesis* that the sample is normally distributed. If the value of the statistic is extreme compared to this *null distribution* - that is, if there is a low probability of sampling such data from a normally distributed population - then we have evidence to reject the null hypothesis.\n",
    "\n",
    "The statistic is calculated based on the skewness and kurtosis of the sample as follows."
   ]
  },
  {
   "cell_type": "code",
   "execution_count": 2,
   "id": "8475312e-7810-4f61-8fed-7fe8297afe28",
   "metadata": {},
   "outputs": [
    {
     "data": {
      "text/plain": [
       "6.982848237344646"
      ]
     },
     "execution_count": 2,
     "metadata": {},
     "output_type": "execute_result"
    }
   ],
   "source": [
    "from scipy import stats\n",
    "\n",
    "def statistic(x):\n",
    "    # Calculates the Jarque-Bera Statistic\n",
    "    # Compare against `scipy.stats.jarque_bera`:\n",
    "    # https://github.com/scipy/scipy/blob/4cf21e753cf937d1c6c2d2a0e372fbc1dbbeea81/scipy/stats/_stats_py.py#L1583-L1637\n",
    "    n = len(x)\n",
    "    mu = np.mean(x, axis=0)\n",
    "    x = x - mu  # remove the mean from the data\n",
    "    s = stats.skew(x)  # calculate the sample skewness\n",
    "    k = stats.kurtosis(x)  # calculate the sample kurtosis\n",
    "    statistic = n/6 * (s**2 + k**2/4)\n",
    "    return statistic\n",
    "\n",
    "stat1 = statistic(x)\n",
    "stat2, _ = stats.jarque_bera(x)\n",
    "np.testing.assert_allclose(stat1, stat2, rtol=1e-14)\n",
    "stat1"
   ]
  },
  {
   "cell_type": "markdown",
   "id": "7a38c293-1414-4d5c-8c6f-84d9d2e77e93",
   "metadata": {},
   "source": [
    "Note that the value of the statistic is unaffected by the scale and location of the data."
   ]
  },
  {
   "cell_type": "code",
   "execution_count": 3,
   "id": "138b5da5-d953-4630-97c4-ebd8ad6420c7",
   "metadata": {},
   "outputs": [],
   "source": [
    "old_location = np.mean(x)\n",
    "old_scale = np.std(x)\n",
    "x_new = (x - old_location) / old_scale  # make location 0 and scale 1\n",
    "stat3 = statistic(x_new)\n",
    "np.testing.assert_allclose(stat1, stat3, rtol=1e-14)"
   ]
  },
  {
   "cell_type": "markdown",
   "id": "69fad794-1d58-49c9-9c75-09f642cdfbf0",
   "metadata": {},
   "source": [
    "Consequently, it can be shown that large samples drawn from a normal distribution with any mean and variance will produce statistic values that are distributed according to the chi-squared distribution with two degrees of freedom. We can check this numerically by drawing 1000 samples of size 500 from a standard normal distribution and computing the value of the statistic for each sample."
   ]
  },
  {
   "cell_type": "code",
   "execution_count": 4,
   "id": "9e2c2e75-1f3b-477c-9b6a-20d6bbfd6efd",
   "metadata": {},
   "outputs": [
    {
     "data": {
      "image/png": "[encoded data removed]",
      "text/plain": [
       "<Figure size 432x288 with 1 Axes>"
      ]
     },
     "metadata": {
      "needs_background": "light"
     },
     "output_type": "display_data"
    }
   ],
   "source": [
    "np.random.seed(0)\n",
    "n_observations = 500  # number of observations\n",
    "n_samples = 1000  # number of samples\n",
    "# standard normal distribution can be used, since the\n",
    "# statistic is unaffected by location and scale\n",
    "norm_dist = stats.norm()\n",
    "# Draw 1000 samples, each with 500 observations\n",
    "y = norm_dist.rvs(size=(n_observations, n_samples))\n",
    "\n",
    "# calculate the value of the statistic for each sample\n",
    "# we'll call this the \"Monte Carlo null distribution\"\n",
    "null_dist_mc = statistic(y)\n",
    "\n",
    "# the asymptotic null distribution is chi-squared with df=2\n",
    "null_dist = stats.chi2(df=2)\n",
    "y_grid = np.linspace(0, null_dist.isf(0.001))\n",
    "pdf = null_dist.pdf(y_grid)\n",
    "\n",
    "# compare the two\n",
    "import matplotlib.pyplot as plt\n",
    "plt.plot(y_grid, pdf)\n",
    "plt.hist(null_dist_mc, density=True, bins=100)\n",
    "plt.xlim(0, np.max(y_grid))\n",
    "plt.xlabel(\"Value of statistic\")\n",
    "plt.ylabel(\"Probability Density\")\n",
    "plt.legend(['Asymptotic Null Distribution', 'Monte Carlo Null Distribution (500 observations/sample)'])\n",
    "plt.show()"
   ]
  },
  {
   "cell_type": "markdown",
   "id": "87d87faf-f1e1-462f-a94c-cf09d9445767",
   "metadata": {},
   "source": [
    "As we can see, the *Monte Carlo null distribution* <a name=\"cite_ref-2\"></a>[<sup>**†**</sup>](#cite_note-1) of the test statistic when samples are drawn according to the null hypothesis (from a normal distribution) appears to follow the *asymptotic null distribution* (chi-squared with two degrees of freedom). \n",
    "\n",
    "<a name=\"cite_ref-1\"></a>[<sup>**†**</sup>](#cite_note-1) Named after the Monte Carlo Casino in Monaco, apparently [[3]](https://en.wikipedia.org/wiki/Monte_Carlo_method#Historyhttps://en.wikipedia.org/wiki/Monte_Carlo_method#History).\n"
   ]
  },
  {
   "cell_type": "markdown",
   "id": "4195c3fd-12fe-46b4-b681-83e0f57550ae",
   "metadata": {},
   "source": [
    "Note that the originally observed value of the statistic, 6.98, is located in the right tail of the null distribution. Random samples from a normal distribution usually produce statistic values less than 6.98, and only occasionally produce higher values. Therefore, there is rather low probability of observing such an extreme value of the statistic under the null hypothesis that the sample is drawn from a normal population. This probability is quantified by the *inverse survival function* of the null distribution:"
   ]
  },
  {
   "cell_type": "code",
   "execution_count": 5,
   "id": "0f2fad67-7dc3-4bf4-af5f-12bad97321e2",
   "metadata": {},
   "outputs": [
    {
     "name": "stdout",
     "output_type": "stream",
     "text": [
      "Under the null hypothesis, the chance of drawing a sample that produces a statistic value greater than \n",
      "6.982848237344646\n",
      "is\n",
      "0.03045746622458189\n"
     ]
    }
   ],
   "source": [
    "pvalue = null_dist.sf(stat1)\n",
    "message = (\"Under the null hypothesis, the chance of drawing a sample \"\n",
    "           f\"that produces a statistic value greater than \\n{stat1}\\n\"\n",
    "           f\"is\\n{pvalue}\")\n",
    "print(message)"
   ]
  },
  {
   "cell_type": "markdown",
   "id": "54c6b2aa-98ce-4463-be49-78732a50083d",
   "metadata": {},
   "source": [
    "This is the `pvalue` returned by `stats.jarque_bera`."
   ]
  },
  {
   "cell_type": "code",
   "execution_count": 6,
   "id": "bead807c-e722-4269-bfbe-3be8fccb2da8",
   "metadata": {},
   "outputs": [],
   "source": [
    "np.testing.assert_allclose(pvalue, stats.jarque_bera(x).pvalue, rtol=1e-14)"
   ]
  },
  {
   "cell_type": "markdown",
   "id": "78720622-ff97-4248-85a1-6e13b786ea06",
   "metadata": {},
   "source": [
    "When the $p$-value is small, we take this as evidence against the null hypothesis, since samples drawn under the null hypothesis have a low probability of producing such an extreme value of the statistic. For better or for worse, a common \"confidence level\" used for statistical tests is 0.99, meaning that the threshold for rejection of the null hypothesis is $p \\leq 0.01$. If we adopt this criterion, then the Jarque-Bera test was inconclusive; it gives insufficient evidence to conclude the null hypothesis is false. Although this should *not* be taken as evidence that the null hypothesis is *true*, the lack of evidence against the hypothesis of normality is often considered sufficient to proceed with tests that assume the data is drawn from a normal population."
   ]
  },
  {
   "cell_type": "markdown",
   "id": "8feb92d9-99b7-4863-885c-8876a64905f6",
   "metadata": {},
   "source": [
    "There are a few shortcomings with the test procedure outlined above. The Monte Carlo null distribution agreed with the asymptotic null distribution when the number of observations per sample was 500, but our original sample `x` had only 11 observations. If we generate a Monte Carlo null distribution of the statistic for sample size of only 11 observations, there is marked disagreement between the Monte Carlo null distribution and the asymptotic null distribution."
   ]
  },
  {
   "cell_type": "code",
   "execution_count": 7,
   "id": "1fe77f87-b4cc-4b0f-baee-cf79ca2088ea",
   "metadata": {},
   "outputs": [
    {
     "data": {
      "image/png": "[encoded data removed]",
      "text/plain": [
       "<Figure size 432x288 with 1 Axes>"
      ]
     },
     "metadata": {
      "needs_background": "light"
     },
     "output_type": "display_data"
    }
   ],
   "source": [
    "# Draw 10000 samples, each with 11 observations\n",
    "n_observations = 11\n",
    "n_samples = 10000\n",
    "y = norm_dist.rvs(size=(n_observations, n_samples))\n",
    "\n",
    "# calculate the value of the statistic for each sample\n",
    "null_dist_mc = statistic(y)\n",
    "\n",
    "# compare the MC and asymptotic distributions\n",
    "plt.plot(y_grid, pdf)\n",
    "plt.hist(null_dist_mc, density=True, bins=200)\n",
    "plt.xlim(0, np.max(y_grid))\n",
    "plt.xlabel(\"Value of test statistic\")\n",
    "plt.ylabel(\"Probability Density / Observed Frequency\")\n",
    "plt.legend(['Asymptotic Null Distribution', 'Monte Carlo Null Distribution (11 observations/sample)'])\n",
    "plt.show()"
   ]
  },
  {
   "cell_type": "markdown",
   "id": "3c15ba7a-53c4-42b4-833c-39d86e2ba969",
   "metadata": {},
   "source": [
    "This is because the asymptotic null distribution was derived under the assumption that the number of observations approaches infinity (hence the name \"asymptotic\" null distribution). Apparently, it is quite different from the null distribution of the test statistic when the number of observations is 11.\n",
    "\n",
    "The true theoretical null distribution when the number of observations is 11 may not be possible to calculate analytically (in a way that can be expressed in terms of a finite number of common functions). So rather than comparing a test statistic against a theoretical null distribution to determine the $p$-value, the approach of the *Monte Carlo test* is to compare the test statistic against the Monte Carlo null distribution."
   ]
  },
  {
   "cell_type": "code",
   "execution_count": 8,
   "id": "17e06351-479d-49b6-989f-7a30bfde43ab",
   "metadata": {},
   "outputs": [
    {
     "name": "stdout",
     "output_type": "stream",
     "text": [
      "Asymptotic p-value 0.03045746622458189\n",
      "Monte Carlo p-value: 0.0085\n"
     ]
    }
   ],
   "source": [
    "res = stats.jarque_bera(x)\n",
    "stat, p_asymptotic = res\n",
    "count = np.sum(null_dist_mc >= stat)\n",
    "p_mc = count / n_samples\n",
    "print(f\"Asymptotic p-value {p_asymptotic}\")\n",
    "print(f\"Monte Carlo p-value: {p_mc}\")"
   ]
  },
  {
   "cell_type": "markdown",
   "id": "e27fd4f9-64eb-42ca-9131-b6f1cefa9698",
   "metadata": {},
   "source": [
    "These $p$-values are substantially different, so we might draw different conclusions about the validity of the null hypothesis depending on which test we perform. Under the 1% threshold used above, the Monte Carlo test would suggest that there is enough evidence for rejection of the null hypothesis whereas the asymptotic test performed by `stats.jarque_bera` would not. In other cases, the opposite may be true. In any case, it seems that the Monte Carlo test should be preferred when the number of observations is small.\n",
    "\n",
    "`stats.monte_carlo_test` simplifies the process of performing a Monte Carlo test. All we need to provide is the obverved data, a function that generates data sampled under under the null hypothesis, and a function that computes the test statistic. `monte_carlo_test` returns an object with the observed statistic value, an empirical null distribution of the statistic, and the corresponding $p$-value."
   ]
  },
  {
   "cell_type": "code",
   "execution_count": 9,
   "id": "4869f8dd-4d59-432e-80be-b6ec321aef26",
   "metadata": {},
   "outputs": [
    {
     "name": "stdout",
     "output_type": "stream",
     "text": [
      "Observed values of the statistic: 6.982848237344646\n",
      "Monte Carlo p-value: 0.0076\n",
      "Empirical null distribution shape: (10000,)\n"
     ]
    }
   ],
   "source": [
    "res = stats.monte_carlo_test(sample=x, rvs=norm_dist.rvs, statistic=statistic, \n",
    "                             n_resamples=10000, alternative='greater')\n",
    "print(f\"Observed values of the statistic: {res.statistic}\")\n",
    "print(f\"Monte Carlo p-value: {res.pvalue}\")\n",
    "print(f\"Empirical null distribution shape: {res.null_distribution.shape}\")"
   ]
  },
  {
   "cell_type": "markdown",
   "id": "46763f1a-a696-41b9-ace3-9124760b7e65",
   "metadata": {},
   "source": [
    "Note that the $p$-value here is slightly different than `p_mc` above because the algorithm is stochastic. Nevertheless, `res.pvalue` is much closer to `p_mc` than to `p_asyptotic`: for small samples, the Monte Carlo null distribution generated from a sufficiently large number of random samples is often more accurate than the asymptotic null distribution, despite the error inherent in random sampling.\n",
    "\n",
    "Here, we also passed optional arguments to control the behavior of `monte_carlo_test`. As one might expect, the parameter `n_resamples` controls the number of samples to draw from the provided *random variate sample* function. Perhaps less obvious is the meaning of `alternative`, which controls which *alternative hypothesis* we are testing, that is, which tail of the null distribution the observed statistic value should be compared against. In this case, we are assessing the null hypothesis that the sample was drawn from a normal population against the alternative that the sample is drawn from a population which tends to produce a *greater* value of the test statistic. Perhaps more intuitively, the argument `'greater'` corresponds with the sign of the comparison against the null distribution (i.e., `null_dist_emperical >= statistic(x)` from above). Another options for `alternative` is `'less'` (i.e., `null_dist_emperical <= statistic(x)`). In some cases, a `'two-sided'` alternative is desired, which is twice the minimum of the \"one-sided\" $p$-values. (More on the choice of this convention below.)\n",
    "\n",
    "We can improve performance of `monte_carlo_test` by ensuring that our test statistic is \"vectorized\". That is, instead of requiring a one-dimensional sample array as input, the statistic should accept an $n$-dimensional array of samples in which each *axis-slice* (e.g. row, column) is a distinct sample. Our `statistic` function is already vectorized in some sense. Above, we wrote `null_dist_emperical = statistic(y)`, and `statistic` computed the statistic for each column of the two-dimensional `y`."
   ]
  },
  {
   "cell_type": "code",
   "execution_count": 10,
   "id": "6d0f8f55-5497-428c-a54e-8664c1cfd6d0",
   "metadata": {},
   "outputs": [
    {
     "name": "stdout",
     "output_type": "stream",
     "text": [
      "(11, 10000)\n",
      "(10000,)\n"
     ]
    }
   ],
   "source": [
    "print(y.shape)  # 10000 samples, each with 11 observations\n",
    "print(statistic(y).shape)  # statistic for each column of y"
   ]
  },
  {
   "cell_type": "markdown",
   "id": "0c4da9ef-f7b2-4540-a195-b322dd089692",
   "metadata": {},
   "source": [
    "However, `monte_carlo_test` requires that the statistic function accept an `axis` argument to compute the statistic along *any* axis. Only minor modifications are required:"
   ]
  },
  {
   "cell_type": "code",
   "execution_count": 11,
   "id": "b7d6797e-7dab-46ac-a097-ec41716cd8b8",
   "metadata": {},
   "outputs": [],
   "source": [
    "def statistic_vectorized(x, axis=0):\n",
    "    # Calculates the Jarque-Bera Statistic\n",
    "    # Compare against https://github.com/scipy/scipy/blob/4cf21e753cf937d1c6c2d2a0e372fbc1dbbeea81/scipy/stats/_stats_py.py#L1583-L1637\n",
    "    n = x.shape[axis]\n",
    "    mu = np.mean(x, axis=axis, keepdims=True)\n",
    "    x = x - mu  # remove the mean from the data\n",
    "    s = stats.skew(x, axis=axis)  # calculate the sample skewness\n",
    "    k = stats.kurtosis(x, axis=axis)  # calculate the sample kurtosis\n",
    "    statistic = n/6 * (s**2 + k**2/4)\n",
    "    return statistic\n",
    "\n",
    "np.testing.assert_allclose(statistic_vectorized(y, axis=0), statistic_vectorized(y.T, axis=1))"
   ]
  },
  {
   "cell_type": "markdown",
   "id": "9f5001f8-c828-42f2-848c-8d79157bd159",
   "metadata": {},
   "source": [
    "But `monte_carlo_test` becomes much faster:\n"
   ]
  },
  {
   "cell_type": "code",
   "execution_count": 12,
   "id": "198b8734-c516-4394-af01-614712138c10",
   "metadata": {},
   "outputs": [
    {
     "name": "stdout",
     "output_type": "stream",
     "text": [
      "7.15 s ± 0 ns per loop (mean ± std. dev. of 1 run, 1 loop each)\n"
     ]
    }
   ],
   "source": [
    "# Before\n",
    "%timeit -r1 -n1 stats.monte_carlo_test(sample=x, rvs=norm_dist.rvs, statistic=statistic, n_resamples=10000, alternative='greater')"
   ]
  },
  {
   "cell_type": "code",
   "execution_count": 13,
   "id": "20212a36-30ab-4486-81d8-fbe8683ecaa6",
   "metadata": {},
   "outputs": [
    {
     "name": "stdout",
     "output_type": "stream",
     "text": [
      "10.8 ms ± 583 µs per loop (mean ± std. dev. of 7 runs, 100 loops each)\n"
     ]
    }
   ],
   "source": [
    "# After\n",
    "%timeit stats.monte_carlo_test(sample=x, rvs=norm_dist.rvs, statistic=statistic_vectorized, n_resamples=10000, alternative='greater', vectorized=True)"
   ]
  },
  {
   "cell_type": "markdown",
   "id": "f376518b-23b7-45bf-9921-4f717378f0aa",
   "metadata": {},
   "source": [
    "When a statistical test is already implemented in SciPy (like `stats.jarque_bera`), it becomes even easier to perform a Monte Carlo version of the test. We simply need to \"wrap\" it in another function which only returns the test statistic rather than the full result object."
   ]
  },
  {
   "cell_type": "code",
   "execution_count": 14,
   "id": "4fc52618-5476-4042-9bea-8b463c2767f3",
   "metadata": {},
   "outputs": [
    {
     "data": {
      "text/plain": [
       "0.008"
      ]
     },
     "execution_count": 14,
     "metadata": {},
     "output_type": "execute_result"
    }
   ],
   "source": [
    "def statistic_scipy(x):\n",
    "    # `jarque_bera` returns a result obeject\n",
    "    res = stats.jarque_bera(x)  \n",
    "    # Our wrapper returns only the statistic, as required by `monte_carlo_test`\n",
    "    return res.statistic\n",
    "\n",
    "res = stats.monte_carlo_test(sample=x, rvs=norm_dist.rvs, statistic=statistic_scipy, n_resamples=10000, alternative='greater')\n",
    "res.pvalue"
   ]
  },
  {
   "cell_type": "markdown",
   "id": "0ac75775-40e2-44c7-882b-009b2adef689",
   "metadata": {},
   "source": [
    "Of course, besides enabling more accurate tests for small sample sizes, `monte_carlo_test` makes it easy to perform hypothesis tests *not* implemented in SciPy. For instance, suppose we want to assess whether our data is distributed according to a [`rayleigh` distribution](https://docs.scipy.org/doc/scipy/reference/generated/scipy.stats.rayleigh). Just as the \"normal distribution\" is really a *family* of distributions parameterized by mean and standard deviations, so `rayleigh` is a family of distributions rather than one specific distribution. In contrast with the normal distribution, however, there are no tests in SciPy specifically designed to determine whether a sample is drawn from a Rayleigh distribution. \n",
    "\n",
    "The closest options are tests like [`ks_1samp`](https://docs.scipy.org/doc/scipy/reference/generated/scipy.stats.ks_1samp.html) and [`cramervonmises`](https://docs.scipy.org/doc/scipy/reference/generated/scipy.stats.cramervonmises.html), which can assess whether a sample is drawn from a *specific* distribution. If we want to use these tests to assess whether the sample is distributed according to *any* Rayleigh distribution, one approach is to fit a Rayleigh distribution to the data, and then apply `ks_1samp` and `cramervonmises` to test whether the data were drawn from the fitted Rayleigh distribution."
   ]
  },
  {
   "cell_type": "code",
   "execution_count": 15,
   "id": "7ecf4ac3-3430-4508-b42e-625e3d7f08cc",
   "metadata": {},
   "outputs": [
    {
     "data": {
      "image/png": "[encoded data removed]",
      "text/plain": [
       "<Figure size 432x288 with 1 Axes>"
      ]
     },
     "metadata": {
      "needs_background": "light"
     },
     "output_type": "display_data"
    }
   ],
   "source": [
    "dist_family = stats.rayleigh\n",
    "params = dist_family.fit(x)\n",
    "dist_specific = dist_family(*params)\n",
    "\n",
    "z = np.linspace(dist_specific.ppf(0), dist_specific.isf(0.001))\n",
    "plt.plot(z, dist_specific.pdf(z))\n",
    "plt.plot(x, np.zeros_like(x), 'x')\n",
    "plt.legend(('Candidate PDF', 'Observed Data'))\n",
    "plt.xlabel('Weight (lb)')\n",
    "plt.ylabel('Probability Density')\n",
    "plt.show()"
   ]
  },
  {
   "cell_type": "markdown",
   "id": "bf116179-6679-4ca4-b938-549886b92b0d",
   "metadata": {},
   "source": [
    "To the eyes of the author, this does not look like a terrific fit. The mode of the Rayleigh distribution is too far to the right compared to the cluster of observations around 160 lb. Also, according to this Rayleigh distribution, there is zero probability that any weights could be less than ~135 lb, which does not seem realistic. However, the `ks_1samp` and `cramervonmises` tests are both inconclusive, with relatively large $p$-values."
   ]
  },
  {
   "cell_type": "code",
   "execution_count": 16,
   "id": "09860ff5-3a29-4d41-bf9f-d69770ab9aa3",
   "metadata": {},
   "outputs": [
    {
     "data": {
      "text/plain": [
       "KstestResult(statistic=0.26884627441317677, pvalue=0.3412228239139401)"
      ]
     },
     "execution_count": 16,
     "metadata": {},
     "output_type": "execute_result"
    }
   ],
   "source": [
    "stats.ks_1samp(x, dist_specific.cdf)"
   ]
  },
  {
   "cell_type": "code",
   "execution_count": 17,
   "id": "09867af4-cd95-4286-8eb7-3e79e5b97b7a",
   "metadata": {},
   "outputs": [
    {
     "data": {
      "text/plain": [
       "CramerVonMisesResult(statistic=0.17536330558707267, pvalue=0.32395064743536117)"
      ]
     },
     "execution_count": 17,
     "metadata": {},
     "output_type": "execute_result"
    }
   ],
   "source": [
    "stats.cramervonmises(x, dist_specific.cdf)"
   ]
  },
  {
   "cell_type": "markdown",
   "id": "7666ae1d-8c0b-48df-b40d-06050da64edc",
   "metadata": {},
   "source": [
    "A much more powerful test of the null hypothesis that the data is distributed according to *any* Rayleigh distribution is the [Anderson-Darling Test](https://en.wikipedia.org/wiki/Anderson%E2%80%93Darling_test). [`scipy.stats.anderson`](https://docs.scipy.org/doc/scipy/reference/generated/scipy.stats.anderson.html) implements the test for some families of distributions, but not for the Rayleigh distribution. A simple implementation is included below."
   ]
  },
  {
   "cell_type": "code",
   "execution_count": 18,
   "id": "e9eb2df7-4560-4b17-98f5-e9611a9223a5",
   "metadata": {},
   "outputs": [
    {
     "data": {
      "text/plain": [
       "0.0425042504250425"
      ]
     },
     "execution_count": 18,
     "metadata": {},
     "output_type": "execute_result"
    }
   ],
   "source": [
    "def statistic(x):\n",
    "    \"\"\"Compute the Anderson-Darling statistic A^2\"\"\"\n",
    "    # fit a distribution to the data\n",
    "    params = dist_family.fit(x)\n",
    "    dist = dist_family(*params)\n",
    "    \n",
    "    # compute A^2\n",
    "    x = np.sort(x)\n",
    "    n = len(x)\n",
    "    i = np.arange(1, n+1)\n",
    "    Si = (2*i - 1)/n * (dist.logcdf(x) + dist.logsf(x[::-1]))\n",
    "    S = np.sum(Si)\n",
    "    return -n - S\n",
    "\n",
    "params = dist_family.fit(x)\n",
    "dist = dist_family(*params)\n",
    "res = stats.monte_carlo_test(x, rvs=dist.rvs, statistic=statistic, alternative='greater')\n",
    "res.pvalue"
   ]
  },
  {
   "cell_type": "markdown",
   "id": "db20efd8-6b9f-41d2-a44b-3b26e847ab22",
   "metadata": {},
   "source": [
    "Although this does not meet the threshold for significance used above (1%), it does begin to cast doubt on the null hypothesis."
   ]
  },
  {
   "cell_type": "markdown",
   "id": "eb114e39-ea07-451d-b6d1-1c965fca311e",
   "metadata": {},
   "source": [
    "As we can see, `monte_carlo_test` is a versatile tool for comparing a sample against a distribution by means of an arbitrary statistic. Provided a statistic and null distribution, it can replicate the $p$-value of any such tests in SciPy, and it may be more accurate than these existing implementations, especially for small samples:\n",
    "\n",
    "- [`skewtest`](https://docs.scipy.org/doc/scipy/reference/generated/scipy.stats.skewtest.html)\n",
    "- [`kurtosistest`](https://docs.scipy.org/doc/scipy/reference/generated/scipy.stats.kurtosistest.html)\n",
    "- [`normaltest`](https://docs.scipy.org/doc/scipy/reference/generated/scipy.stats.normaltest.html)\n",
    "- [`shapiro`](https://docs.scipy.org/doc/scipy/reference/generated/scipy.stats.shapiro.html)\n",
    "- [`anderson`](https://docs.scipy.org/doc/scipy/reference/generated/scipy.stats.anderson.html)\n",
    "- [`chisquare`](https://docs.scipy.org/doc/scipy/reference/generated/scipy.stats.chisquare.html)\n",
    "- [`power_divergence`](https://docs.scipy.org/doc/scipy/reference/generated/scipy.stats.power_divergence.html)\n",
    "- [`cramervonmises`](https://docs.scipy.org/doc/scipy/reference/generated/scipy.stats.cramervonmises.html)\n",
    "- [`ks_1samp`](https://docs.scipy.org/doc/scipy/reference/generated/scipy.stats.ks_1samp.html)\n",
    "- [`binomtest`](https://docs.scipy.org/doc/scipy/reference/generated/scipy.stats.binomtest.html)\n",
    "\n",
    "In addition, `monte_carlo_test` can be used to perform tests not yet implemented in SciPy, such as [the Lilliefors Test](https://www.tandfonline.com/doi/abs/10.1080/01621459.1967.10482916) for normality.\n",
    "\n",
    "However, there are other types of statistical tests that do not test whether a sample is drawn from a particular distribution or family of distributions, but instead test whether  multiple samples are drawn from the same distribution. For these situations, we turn our attention to [Permutation Tests](https://nbviewer.org/github/scipy/scipy-cookbook/blob/main/ipython/ResamplingAndMonteCarloMethods/resampling_tutorial_2.ipynb)."
   ]
  }
 ],
 "metadata": {
  "kernelspec": {
   "display_name": "Python 3 (ipykernel)",
   "language": "python",
   "name": "python3"
  },
  "language_info": {
   "codemirror_mode": {
    "name": "ipython",
    "version": 3
   },
   "file_extension": ".py",
   "mimetype": "text/x-python",
   "name": "python",
   "nbconvert_exporter": "python",
   "pygments_lexer": "ipython3",
   "version": "3.10.5"
  }
 },
 "nbformat": 4,
 "nbformat_minor": 5
}
